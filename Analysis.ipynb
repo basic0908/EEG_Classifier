{
 "cells": [
  {
   "attachments": {},
   "cell_type": "markdown",
   "metadata": {},
   "source": [
    "- play around with length of each data\n",
    "- whete to slice"
   ]
  },
  {
   "attachments": {},
   "cell_type": "markdown",
   "metadata": {},
   "source": [
    "## Import libraries"
   ]
  },
  {
   "cell_type": "code",
   "execution_count": 1,
   "metadata": {},
   "outputs": [
    {
     "name": "stdout",
     "output_type": "stream",
     "text": [
      "Current working directory: c:\\Users\\ryoii\\OneDrive\\Documents\\work\\zone_prod_70\n"
     ]
    }
   ],
   "source": [
    "import pandas as pd\n",
    "import numpy as np\n",
    "%matplotlib inline\n",
    "import matplotlib.pyplot as plt\n",
    "import os, math\n",
    "import tensorflow as tf\n",
    "from keras.utils import pad_sequences\n",
    "from keras.models import Sequential\n",
    "from keras.layers import Dense, LSTM\n",
    "\n",
    "from keras.optimizers import Adam\n",
    "from keras.models import load_model\n",
    "from keras.callbacks import ModelCheckpoint\n",
    "\n",
    "from sklearn.metrics import accuracy_score\n",
    "from sklearn.preprocessing import MinMaxScaler\n",
    "\n",
    "dir = os.getcwd()\n",
    "path = os.path.join(dir, 'zone_prod_70')\n",
    "os.chdir(path)\n",
    "print('Current working directory: {}'.format(os.getcwd()))\n"
   ]
  },
  {
   "attachments": {},
   "cell_type": "markdown",
   "metadata": {},
   "source": [
    "## Read csv files"
   ]
  },
  {
   "attachments": {},
   "cell_type": "markdown",
   "metadata": {},
   "source": [
    "- _sequences: contains raw EEG data\n",
    "- _labels: contains labels for the csv files\n",
    "0 = base, 1 = target"
   ]
  },
  {
   "cell_type": "code",
   "execution_count": 2,
   "metadata": {},
   "outputs": [
    {
     "name": "stdout",
     "output_type": "stream",
     "text": [
      "Size of train combined: 567\n",
      "Size of test combined: 119\n"
     ]
    }
   ],
   "source": [
    "def load_files(path):\n",
    "    sequences = list()\n",
    "    for file in os.listdir(path):\n",
    "        if file.endswith('.csv'):\n",
    "            df = pd.read_csv(path+'\\\\'+file, header=0)\n",
    "            df = df.iloc[:, [2,3]]\n",
    "\n",
    "            sequences.append(df.values)\n",
    "\n",
    "    return sequences\n",
    "\n",
    "train_base_sequences = load_files(os.path.join(os.getcwd(), 'train\\\\base'))\n",
    "train_target_sequences = load_files(os.path.join(os.getcwd(), 'train\\\\target'))\n",
    "test_base_sequences = load_files(os.path.join(os.getcwd(), 'test\\\\base'))\n",
    "test_target_sequences = load_files(os.path.join(os.getcwd(), 'test\\\\target'))\n",
    "\n",
    "print('Size of train combined: {}'.format(len(train_base_sequences) + len(train_target_sequences)))\n",
    "print('Size of test combined: {}'.format(len(test_base_sequences) + len(test_target_sequences)))"
   ]
  },
  {
   "cell_type": "code",
   "execution_count": 3,
   "metadata": {},
   "outputs": [
    {
     "name": "stdout",
     "output_type": "stream",
     "text": [
      "Size of train_sequences: 447\n",
      "Size of validation_sequences: 120\n",
      "Size of test_sequences: 119\n",
      "Shape of train_labels: (447,)\n",
      "Shape of validation_labels: (120,)\n",
      "Shape of test_labels: (119,)\n"
     ]
    }
   ],
   "source": [
    "# creating training, validation and test datasets\n",
    "validation_len = math.ceil((len(test_base_sequences) + len(test_target_sequences))/2)\n",
    "\n",
    "train_sequences = train_base_sequences[validation_len:] + train_target_sequences[validation_len:]\n",
    "validation_sequences = train_base_sequences[:validation_len] + train_target_sequences[:validation_len]\n",
    "test_sequences = test_base_sequences + test_target_sequences\n",
    "\n",
    "print('Size of train_sequences: {}'.format(len(train_sequences)))\n",
    "print('Size of validation_sequences: {}'.format(len(validation_sequences)))\n",
    "print('Size of test_sequences: {}'.format(len(test_sequences)))\n",
    "\n",
    "\n",
    "# creating labels for each datasets\n",
    "train_labels = np.concatenate((np.zeros(len(train_base_sequences[validation_len:])), np.ones(len(train_target_sequences[validation_len:]))))\n",
    "validation_labels = np.concatenate((np.zeros(len(train_base_sequences[:validation_len])), np.ones(len(train_target_sequences[:validation_len]))))\n",
    "test_labels = np.concatenate((np.zeros(len(test_base_sequences)), np.ones(len(test_target_sequences))))\n",
    "\n",
    "print('Shape of train_labels: {}'.format(train_labels.shape))\n",
    "print('Shape of validation_labels: {}'.format(validation_labels.shape))\n",
    "print('Shape of test_labels: {}'.format(test_labels.shape))\n"
   ]
  },
  {
   "attachments": {},
   "cell_type": "markdown",
   "metadata": {},
   "source": [
    "## Processing"
   ]
  },
  {
   "attachments": {},
   "cell_type": "markdown",
   "metadata": {},
   "source": [
    "#### \n",
    "- Identify minimum series and truncate all other series to that size\n",
    "- Normalize"
   ]
  },
  {
   "cell_type": "code",
   "execution_count": 4,
   "metadata": {},
   "outputs": [
    {
     "name": "stdout",
     "output_type": "stream",
     "text": [
      "Length of each data: 2000\n",
      "Shape of truncated_train_sequences: (447, 2000, 2)\n",
      "Shape of truncated_validation_sequences: (120, 2000, 2)\n",
      "Shape of truncated_test_sequences: (119, 2000, 2)\n"
     ]
    }
   ],
   "source": [
    "def truncate_seq(sequences):\n",
    "    len_sequences = []\n",
    "\n",
    "    for seq in (train_sequences + test_sequences):\n",
    "        len_sequences.append(len(seq))\n",
    "\n",
    "    min = pd.Series(len_sequences).describe()['min']\n",
    "\n",
    "    return pad_sequences(sequences, maxlen=2000) #Remove values from the beginning of the sequence\n",
    "\n",
    "truncated_train_sequences = truncate_seq(train_sequences)\n",
    "truncated_validation_sequences = truncate_seq(validation_sequences)\n",
    "truncated_test_sequences = truncate_seq(test_sequences)\n",
    "\n",
    "\n",
    "print('Length of each data: {}'.format(len(truncated_train_sequences[0])))\n",
    "print('Shape of truncated_train_sequences: {}'.format(truncated_train_sequences.shape))\n",
    "print('Shape of truncated_validation_sequences: {}'.format(truncated_validation_sequences.shape))\n",
    "print('Shape of truncated_test_sequences: {}'.format(truncated_test_sequences.shape))\n"
   ]
  },
  {
   "attachments": {},
   "cell_type": "markdown",
   "metadata": {},
   "source": [
    "## Building a Classification model"
   ]
  },
  {
   "cell_type": "code",
   "execution_count": 5,
   "metadata": {},
   "outputs": [
    {
     "name": "stdout",
     "output_type": "stream",
     "text": [
      "Model: \"sequential\"\n",
      "_________________________________________________________________\n",
      " Layer (type)                Output Shape              Param #   \n",
      "=================================================================\n",
      " lstm (LSTM)                 (None, 256)               265216    \n",
      "                                                                 \n",
      " dense (Dense)               (None, 1)                 257       \n",
      "                                                                 \n",
      "=================================================================\n",
      "Total params: 265,473\n",
      "Trainable params: 265,473\n",
      "Non-trainable params: 0\n",
      "_________________________________________________________________\n"
     ]
    }
   ],
   "source": [
    "model = Sequential()\n",
    "model.add(LSTM(256, input_shape=(truncated_train_sequences.shape[1], truncated_train_sequences.shape[2])))\n",
    "model.add(Dense(1, activation='sigmoid'))\n",
    "\n",
    "model.summary()"
   ]
  },
  {
   "cell_type": "code",
   "execution_count": 6,
   "metadata": {},
   "outputs": [
    {
     "name": "stdout",
     "output_type": "stream",
     "text": [
      "Epoch 1/20\n",
      "4/4 [==============================] - ETA: 0s - loss: 0.6969 - accuracy: 0.5213 \n",
      "Epoch 1: val_accuracy improved from -inf to 0.49167, saving model to best_model.pkl\n"
     ]
    },
    {
     "name": "stderr",
     "output_type": "stream",
     "text": [
      "WARNING:absl:Found untraced functions such as lstm_cell_layer_call_fn, lstm_cell_layer_call_and_return_conditional_losses while saving (showing 2 of 2). These functions will not be directly callable after loading.\n"
     ]
    },
    {
     "name": "stdout",
     "output_type": "stream",
     "text": [
      "INFO:tensorflow:Assets written to: best_model.pkl\\assets\n"
     ]
    },
    {
     "name": "stderr",
     "output_type": "stream",
     "text": [
      "INFO:tensorflow:Assets written to: best_model.pkl\\assets\n"
     ]
    },
    {
     "name": "stdout",
     "output_type": "stream",
     "text": [
      "4/4 [==============================] - 62s 16s/step - loss: 0.6969 - accuracy: 0.5213 - val_loss: 0.7215 - val_accuracy: 0.4917\n",
      "Epoch 2/20\n",
      "4/4 [==============================] - ETA: 0s - loss: 0.6156 - accuracy: 0.6376 \n",
      "Epoch 2: val_accuracy improved from 0.49167 to 0.52500, saving model to best_model.pkl\n"
     ]
    },
    {
     "name": "stderr",
     "output_type": "stream",
     "text": [
      "WARNING:absl:Found untraced functions such as lstm_cell_layer_call_fn, lstm_cell_layer_call_and_return_conditional_losses while saving (showing 2 of 2). These functions will not be directly callable after loading.\n"
     ]
    },
    {
     "name": "stdout",
     "output_type": "stream",
     "text": [
      "INFO:tensorflow:Assets written to: best_model.pkl\\assets\n"
     ]
    },
    {
     "name": "stderr",
     "output_type": "stream",
     "text": [
      "INFO:tensorflow:Assets written to: best_model.pkl\\assets\n"
     ]
    },
    {
     "name": "stdout",
     "output_type": "stream",
     "text": [
      "4/4 [==============================] - 71s 19s/step - loss: 0.6156 - accuracy: 0.6376 - val_loss: 0.7262 - val_accuracy: 0.5250\n",
      "Epoch 3/20\n",
      "4/4 [==============================] - ETA: 0s - loss: 0.5735 - accuracy: 0.6846 \n",
      "Epoch 3: val_accuracy improved from 0.52500 to 0.56667, saving model to best_model.pkl\n"
     ]
    },
    {
     "name": "stderr",
     "output_type": "stream",
     "text": [
      "WARNING:absl:Found untraced functions such as lstm_cell_layer_call_fn, lstm_cell_layer_call_and_return_conditional_losses while saving (showing 2 of 2). These functions will not be directly callable after loading.\n"
     ]
    },
    {
     "name": "stdout",
     "output_type": "stream",
     "text": [
      "INFO:tensorflow:Assets written to: best_model.pkl\\assets\n"
     ]
    },
    {
     "name": "stderr",
     "output_type": "stream",
     "text": [
      "INFO:tensorflow:Assets written to: best_model.pkl\\assets\n"
     ]
    },
    {
     "name": "stdout",
     "output_type": "stream",
     "text": [
      "4/4 [==============================] - 91s 24s/step - loss: 0.5735 - accuracy: 0.6846 - val_loss: 0.7199 - val_accuracy: 0.5667\n",
      "Epoch 4/20\n",
      "4/4 [==============================] - ETA: 0s - loss: 0.5449 - accuracy: 0.7181 \n",
      "Epoch 4: val_accuracy did not improve from 0.56667\n",
      "4/4 [==============================] - 111s 28s/step - loss: 0.5449 - accuracy: 0.7181 - val_loss: 0.7345 - val_accuracy: 0.5250\n",
      "Epoch 5/20\n",
      "4/4 [==============================] - ETA: 0s - loss: 0.5191 - accuracy: 0.7651 \n",
      "Epoch 5: val_accuracy did not improve from 0.56667\n",
      "4/4 [==============================] - 120s 31s/step - loss: 0.5191 - accuracy: 0.7651 - val_loss: 0.7400 - val_accuracy: 0.5167\n",
      "Epoch 6/20\n",
      "4/4 [==============================] - ETA: 0s - loss: 0.4925 - accuracy: 0.7897 \n",
      "Epoch 6: val_accuracy did not improve from 0.56667\n",
      "4/4 [==============================] - 126s 32s/step - loss: 0.4925 - accuracy: 0.7897 - val_loss: 0.7474 - val_accuracy: 0.5500\n",
      "Epoch 7/20\n",
      "4/4 [==============================] - ETA: 0s - loss: 0.4689 - accuracy: 0.8009 \n",
      "Epoch 7: val_accuracy did not improve from 0.56667\n",
      "4/4 [==============================] - 130s 33s/step - loss: 0.4689 - accuracy: 0.8009 - val_loss: 0.7523 - val_accuracy: 0.5417\n",
      "Epoch 8/20\n",
      "4/4 [==============================] - ETA: 0s - loss: 0.4507 - accuracy: 0.8076 \n",
      "Epoch 8: val_accuracy did not improve from 0.56667\n",
      "4/4 [==============================] - 134s 34s/step - loss: 0.4507 - accuracy: 0.8076 - val_loss: 0.7657 - val_accuracy: 0.5333\n",
      "Epoch 9/20\n",
      "4/4 [==============================] - ETA: 0s - loss: 0.4257 - accuracy: 0.8501 \n",
      "Epoch 9: val_accuracy did not improve from 0.56667\n",
      "4/4 [==============================] - 136s 35s/step - loss: 0.4257 - accuracy: 0.8501 - val_loss: 0.7812 - val_accuracy: 0.5333\n",
      "Epoch 10/20\n",
      "4/4 [==============================] - ETA: 0s - loss: 0.4055 - accuracy: 0.8658 \n",
      "Epoch 10: val_accuracy did not improve from 0.56667\n",
      "4/4 [==============================] - 160s 43s/step - loss: 0.4055 - accuracy: 0.8658 - val_loss: 0.7919 - val_accuracy: 0.4667\n",
      "Epoch 11/20\n",
      "4/4 [==============================] - ETA: 0s - loss: 0.3852 - accuracy: 0.8837 \n",
      "Epoch 11: val_accuracy did not improve from 0.56667\n",
      "4/4 [==============================] - 163s 42s/step - loss: 0.3852 - accuracy: 0.8837 - val_loss: 0.8001 - val_accuracy: 0.4917\n",
      "Epoch 12/20\n",
      "4/4 [==============================] - ETA: 0s - loss: 0.3650 - accuracy: 0.8859 \n",
      "Epoch 12: val_accuracy did not improve from 0.56667\n",
      "4/4 [==============================] - 163s 42s/step - loss: 0.3650 - accuracy: 0.8859 - val_loss: 0.8212 - val_accuracy: 0.4833\n",
      "Epoch 13/20\n",
      "4/4 [==============================] - ETA: 0s - loss: 0.3392 - accuracy: 0.9105 \n",
      "Epoch 13: val_accuracy did not improve from 0.56667\n",
      "4/4 [==============================] - 154s 40s/step - loss: 0.3392 - accuracy: 0.9105 - val_loss: 0.8421 - val_accuracy: 0.4833\n",
      "Epoch 14/20\n",
      "4/4 [==============================] - ETA: 0s - loss: 0.3173 - accuracy: 0.9128 \n",
      "Epoch 14: val_accuracy did not improve from 0.56667\n",
      "4/4 [==============================] - 181s 45s/step - loss: 0.3173 - accuracy: 0.9128 - val_loss: 0.8646 - val_accuracy: 0.4917\n",
      "Epoch 15/20\n",
      "4/4 [==============================] - ETA: 0s - loss: 0.2932 - accuracy: 0.9262 \n",
      "Epoch 15: val_accuracy did not improve from 0.56667\n",
      "4/4 [==============================] - 181s 46s/step - loss: 0.2932 - accuracy: 0.9262 - val_loss: 0.8797 - val_accuracy: 0.4833\n",
      "Epoch 16/20\n",
      "4/4 [==============================] - ETA: 0s - loss: 0.2718 - accuracy: 0.9306 \n",
      "Epoch 16: val_accuracy did not improve from 0.56667\n",
      "4/4 [==============================] - 183s 46s/step - loss: 0.2718 - accuracy: 0.9306 - val_loss: 0.9140 - val_accuracy: 0.4583\n",
      "Epoch 17/20\n",
      "4/4 [==============================] - ETA: 0s - loss: 0.2490 - accuracy: 0.9396 \n",
      "Epoch 17: val_accuracy did not improve from 0.56667\n",
      "4/4 [==============================] - 185s 46s/step - loss: 0.2490 - accuracy: 0.9396 - val_loss: 0.9616 - val_accuracy: 0.4833\n",
      "Epoch 18/20\n",
      "4/4 [==============================] - ETA: 0s - loss: 0.2278 - accuracy: 0.9463 \n",
      "Epoch 18: val_accuracy did not improve from 0.56667\n",
      "4/4 [==============================] - 196s 49s/step - loss: 0.2278 - accuracy: 0.9463 - val_loss: 0.9942 - val_accuracy: 0.4750\n",
      "Epoch 19/20\n",
      "4/4 [==============================] - ETA: 0s - loss: 0.2055 - accuracy: 0.9620 \n",
      "Epoch 19: val_accuracy did not improve from 0.56667\n",
      "4/4 [==============================] - 179s 44s/step - loss: 0.2055 - accuracy: 0.9620 - val_loss: 1.0088 - val_accuracy: 0.4833\n",
      "Epoch 20/20\n",
      "4/4 [==============================] - ETA: 0s - loss: 0.1825 - accuracy: 0.9709 \n",
      "Epoch 20: val_accuracy did not improve from 0.56667\n",
      "4/4 [==============================] - 213s 53s/step - loss: 0.1825 - accuracy: 0.9709 - val_loss: 1.0311 - val_accuracy: 0.5167\n"
     ]
    }
   ],
   "source": [
    "adam = Adam(learning_rate=0.1)\n",
    "chk = ModelCheckpoint('best_model.pkl', monitor='val_accuracy', save_best_only=True, mode='max', verbose=1)\n",
    "model.compile(loss='binary_crossentropy', optimizer=adam, metrics=['accuracy'])\n",
    "history = model.fit(truncated_train_sequences, train_labels, epochs=10, batch_size=128, callbacks=[chk], shuffle=True, validation_data=(truncated_validation_sequences,validation_labels))"
   ]
  },
  {
   "cell_type": "code",
   "execution_count": 7,
   "metadata": {},
   "outputs": [
    {
     "data": {
      "image/png": "[encoded data removed]",
      "text/plain": [
       "<Figure size 432x288 with 1 Axes>"
      ]
     },
     "metadata": {
      "needs_background": "light"
     },
     "output_type": "display_data"
    }
   ],
   "source": [
    "plt.plot(history.history['loss'])\n",
    "plt.plot(history.history['val_loss'])\n",
    "plt.title('model train vs validation loss')\n",
    "plt.ylabel('loss')\n",
    "plt.xlabel('epoch')\n",
    "plt.legend(['train', 'validation'], loc='upper right')\n",
    "plt.show()"
   ]
  },
  {
   "attachments": {},
   "cell_type": "markdown",
   "metadata": {},
   "source": [
    "## Testing accuracy"
   ]
  },
  {
   "cell_type": "code",
   "execution_count": 8,
   "metadata": {},
   "outputs": [
    {
     "name": "stdout",
     "output_type": "stream",
     "text": [
      "4/4 [==============================] - 8s 2s/step\n"
     ]
    },
    {
     "data": {
      "text/plain": [
       "0.4957983193277311"
      ]
     },
     "execution_count": 8,
     "metadata": {},
     "output_type": "execute_result"
    }
   ],
   "source": [
    "model_path = os.path.join(os.getcwd(), 'best_model.pkl')\n",
    "model = load_model(model_path)\n",
    "test_preds = model.predict(truncated_test_sequences)\n",
    "classes_pred=np.argmax(test_preds,axis=1)\n",
    "accuracy_score(test_labels, classes_pred)"
   ]
  }
 ],
 "metadata": {
  "kernelspec": {
   "display_name": "base",
   "language": "python",
   "name": "python3"
  },
  "language_info": {
   "codemirror_mode": {
    "name": "ipython",
    "version": 3
   },
   "file_extension": ".py",
   "mimetype": "text/x-python",
   "name": "python",
   "nbconvert_exporter": "python",
   "pygments_lexer": "ipython3",
   "version": "3.10.5"
  },
  "orig_nbformat": 4
 },
 "nbformat": 4,
 "nbformat_minor": 2
}
